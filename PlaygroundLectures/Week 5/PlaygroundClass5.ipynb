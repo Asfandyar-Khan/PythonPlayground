{
  "nbformat": 4,
  "nbformat_minor": 0,
  "metadata": {
    "colab": {
      "provenance": []
    },
    "kernelspec": {
      "name": "python3",
      "display_name": "Python 3"
    },
    "language_info": {
      "name": "python"
    }
  },
  "cells": [
    {
      "cell_type": "markdown",
      "source": [
        "#Last Week's Homework Questions"
      ],
      "metadata": {
        "id": "KkXW1ywXt31w"
      }
    },
    {
      "cell_type": "code",
      "execution_count": null,
      "metadata": {
        "id": "RBCMA7CPmfj0"
      },
      "outputs": [],
      "source": [
        "#Input function Questions\n",
        "#Question 2 - Pet Fun\n",
        "\n",
        "\"\"\"\n",
        "Create three variables. One for name, favourite animal, and name of the animal. Use the input function to ask the user to enter their name, favorite animal, and what they would name that animal.\n",
        "Print one sentence that says:\n",
        "\n",
        "Jayden would name their dragon \"Blaze\"!\n",
        "Hint: Use the .format function inside of the print function!\n",
        "\n",
        "\"\"\"\n",
        "\n",
        "name = input(\"What is your name? \")\n",
        "animal = input(\"What is your favourite animal? \")\n",
        "name_animal = input(\"What would you name that animal? \")\n",
        "\n",
        "print('{} would name their {} \"{}\".'.format(name,animal,name_animal))\n",
        "\n",
        "\n",
        "#Question 3 - Pizza\n",
        "\n",
        "\"\"\"\n",
        "Ask the user how many slices of pizza they have and how many they want to eat.\n",
        "Then subtract and print how many slices are left.\n",
        "Example:\n",
        "You have 3 slices left!\n",
        "Hint: Use int() to turn your inputs into numbers!\n",
        "Hint: Use the .format function inside of the print function!\n",
        "\"\"\"\n",
        "\n",
        "pizza_have = int(input(\"How many slices of pizza do you have? \"))\n",
        "pizza_eat = int(input(\"How many slices of pizza would you like to eat? \"))\n",
        "\n",
        "result = pizza_have - pizza_eat\n",
        "\n",
        "print(\"You have {} slices left!\".format(result))\n",
        "\n",
        "\n",
        "\n"
      ]
    },
    {
      "cell_type": "markdown",
      "source": [
        "#Intro to Functions"
      ],
      "metadata": {
        "id": "a_OFq70z0fl_"
      }
    },
    {
      "cell_type": "code",
      "source": [
        "#Example 1 - With no parameters (notice how the circle brackets in favourite_sentences have no variable in them!)\n",
        "\n",
        "def favourite_sentences():\n",
        "  print(\"My name is Bob\")\n",
        "  print(\"My age is 10\")\n",
        "\n",
        "favourite_sentences()\n",
        "\n",
        "#Example 2 - With one parameter (string)\n",
        "\n",
        "def print_twice(string):\n",
        "  print(string)\n",
        "  print(string)\n",
        "\n",
        "print_twice(\"Hello\")\n",
        "\n",
        "\n",
        "#Example 3 - More than one parameter\n",
        "\n",
        "def addition(number1,number2):\n",
        "  result = number1+number2\n",
        "  print(result)\n",
        "\n",
        "addition(2,2)\n",
        "\n",
        "\n",
        "#Example 4 - Using math operations\n",
        "\n",
        "def number_of_cars(number):\n",
        "  print(\"The total number of cars is {}\".format(number))\n",
        "\n",
        "number_of_cars(10)\n"
      ],
      "metadata": {
        "id": "B-7oNAs00h20"
      },
      "execution_count": null,
      "outputs": []
    },
    {
      "cell_type": "code",
      "source": [
        "#Example 5 - Using math operations in a function\n",
        "\n",
        "def print_multiple(string):\n",
        "  outcome = string*50\n",
        "  print(outcome)\n",
        "\n",
        "print_multiple(\"Hello \")"
      ],
      "metadata": {
        "id": "RYT5rv_Y5ZAl"
      },
      "execution_count": null,
      "outputs": []
    },
    {
      "cell_type": "code",
      "source": [
        "#Example 5 - Using the print function and the format function in our own new function called number_of_cars\n",
        "\n",
        "def number_of_cars(number):\n",
        "  print(\"The total number of cars is {}\".format(number))\n",
        "\n",
        "number_of_cars(10)"
      ],
      "metadata": {
        "id": "W2Ymtzp-7p5D"
      },
      "execution_count": null,
      "outputs": []
    },
    {
      "cell_type": "markdown",
      "source": [
        "#Variables - Global vs. Local"
      ],
      "metadata": {
        "id": "DiAASl_59dW6"
      }
    },
    {
      "cell_type": "code",
      "source": [
        "#Global variable - Any variable outside of a function.\n",
        "final_result = 1\n",
        "\n",
        "#Local variable - A local is any variable created inside a function. In this example, result is a variable that is created inside the function add! It will not work outside of it! Look at the next example to see this concept in play.\n",
        "\n",
        "def new_function(number):\n",
        "  final_result = number * 2\n",
        "  print(final_result)\n",
        "\n",
        "new_function(5)\n",
        "\n",
        "print(final_result)\n",
        "\n",
        "#Notice how the output of print(final_result) is 1 instead of 10. This is because final_result is definied (or created) both globally - outside of a function - and locally - inside the function new_function.\n",
        "#Python will always print the global variable because any variable defined inside a function cannot be printed globally (outside of that function)!\n"
      ],
      "metadata": {
        "colab": {
          "base_uri": "https://localhost:8080/"
        },
        "id": "RKiD9Ded9hGr",
        "outputId": "8021917a-8024-4c2c-a0ab-c1511e69cb9b"
      },
      "execution_count": 1,
      "outputs": [
        {
          "output_type": "stream",
          "name": "stdout",
          "text": [
            "10\n",
            "1\n"
          ]
        }
      ]
    }
  ]
}