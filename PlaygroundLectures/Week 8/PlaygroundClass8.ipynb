{
  "nbformat": 4,
  "nbformat_minor": 0,
  "metadata": {
    "colab": {
      "provenance": []
    },
    "kernelspec": {
      "name": "python3",
      "display_name": "Python 3"
    },
    "language_info": {
      "name": "python"
    }
  },
  "cells": [
    {
      "cell_type": "markdown",
      "source": [
        "#Week 7 Homework Review"
      ],
      "metadata": {
        "id": "KQnBti7YyHjT"
      }
    },
    {
      "cell_type": "code",
      "source": [
        "#For loop with Strings:\n",
        "for letter in \"Apple\":\n",
        "  print(letter)\n",
        "\n",
        "#For loop with range(0,5)\n",
        "for i in range(0,5):\n",
        "  print(i)\n",
        "\n",
        "#For loop with lists\n",
        "list = [1,2,3,4,5]\n",
        "for number in list:\n",
        "  print(number*2)\n",
        "\n",
        "new_list = [\"A\",\"B\",\"C\",\"D\"]\n",
        "\n",
        "my_letter = new_list[2]\n",
        "\n",
        "print(my_letter)\n"
      ],
      "metadata": {
        "id": "Z23ogChf82Mz"
      },
      "execution_count": null,
      "outputs": []
    },
    {
      "cell_type": "markdown",
      "source": [
        "#New Python Data Type - Lists"
      ],
      "metadata": {
        "id": "RTcbvodeyJTF"
      }
    },
    {
      "cell_type": "code",
      "source": [
        "#Example with numbers:\n",
        "sequence = [0,100,200]\n",
        "print(sequence)\n",
        "\n",
        "#Example with strings:\n",
        "fruits = [\"apple\", \"banana\", \"cherry\", \"mango\"]\n",
        "print(fruits)\n",
        "\n",
        "#Example with both numbers and strings:\n",
        "mixed = [\"dog\", 5, \"cat\", 10]\n",
        "print(mixed)\n",
        "\n",
        "# Example 4 - Empty list\n",
        "empty_list = []\n",
        "print(empty_list)\n",
        "\n"
      ],
      "metadata": {
        "id": "8A7UytEhyNhF"
      },
      "execution_count": null,
      "outputs": []
    },
    {
      "cell_type": "markdown",
      "source": [
        "#Using .append() and index[] methods!"
      ],
      "metadata": {
        "id": "kERz_9ZxyN3A"
      }
    },
    {
      "cell_type": "code",
      "source": [
        "#Example 1 Using append to add items to a list\n",
        "\n",
        "list = [\"lions\",\"tigers\",\"dolphins\",\"elephants\"]\n",
        "\n",
        "print(list)\n",
        "\n",
        "\n",
        "list.append(\"cats\")\n",
        "\n",
        "print(list)\n",
        "\n",
        "\n",
        "#Example 2 Using append with a list of numbers\n",
        "\n",
        "numbers_list = [10,20,30,40,50]\n",
        "print(numbers_list)\n",
        "\n",
        "numbers_list.append(60)\n",
        "\n",
        "print(numbers_list)\n",
        "\n",
        "#Example 3: Using index to access a particular item in a list - With Numbers\n",
        "\n",
        "list = [10,20,30,40,50] # = [0,1,2,3,4]\n",
        "list[0]\n",
        "list[4]\n",
        "\n",
        "\n",
        "#Example 4: Using index to access a particular item in a list - With Numbers\n",
        "\n",
        "new_list = [\"Red\",\"Blue\",\"Green\",\"Yellow\"]\n",
        "\n",
        "new_list[0] #This will get us the colour Red from out list. This is because Red is at position 0 in our list.\n",
        "\n",
        "new_list[1] #This will get us the colour Blue from our list. This is because Blue is at position 1 in our list."
      ],
      "metadata": {
        "id": "yceOIf3yySl_"
      },
      "execution_count": null,
      "outputs": []
    },
    {
      "cell_type": "markdown",
      "source": [
        "#Using Lists in Functions"
      ],
      "metadata": {
        "id": "ZyVkhbHoybrc"
      }
    },
    {
      "cell_type": "code",
      "source": [
        "# Example 1 - Function that prints all fruits\n",
        "def show_fruits():\n",
        "    fruits = [\"apple\", \"banana\", \"cherry\"]\n",
        "    for fruit in fruits:\n",
        "        print(fruit)\n",
        "\n",
        "show_fruits()\n",
        "\n",
        "# Example 2 - Function with a list as a parameter\n",
        "def print_colors(colors):\n",
        "    for color in colors:\n",
        "        print(\"I like\", color)\n",
        "\n",
        "print_colors([\"red\", \"blue\", \"green\"])\n",
        "\n",
        "# Example 3 - Adding numbers in a list\n",
        "def sum_numbers(numbers):\n",
        "    total = 0\n",
        "    for n in numbers:\n",
        "        total += n\n",
        "    return total\n",
        "\n",
        "print(sum_numbers([1, 2, 3, 4, 5]))\n",
        "\n",
        "# Example 4 - Multiply each number in a list by 2\n",
        "def double_numbers(numbers):\n",
        "    for n in numbers:\n",
        "        print(n * 2)\n",
        "\n",
        "double_numbers([2, 4, 6, 8])\n",
        "\n",
        "# Example 5 - Function that says hello to everyone in a list\n",
        "def say_hello(names):\n",
        "    for name in names:\n",
        "        print(\"Hello\", name + \"!\")\n",
        "\n",
        "say_hello([\"Alice\", \"Bob\", \"Charlie\"])"
      ],
      "metadata": {
        "id": "9GDDRQRAyc8W"
      },
      "execution_count": null,
      "outputs": []
    },
    {
      "cell_type": "markdown",
      "source": [
        "#Tuples"
      ],
      "metadata": {
        "id": "sXN8SB6kyd9R"
      }
    },
    {
      "cell_type": "code",
      "source": [
        "# Example 1 - Lists can change (mutable), Tuples cannot (immutable)\n",
        "my_list = [\"apple\", \"banana\", \"cherry\"]\n",
        "my_tuple = (\"apple\", \"banana\", \"cherry\")\n",
        "\n",
        "# Changing the list works\n",
        "my_list[0] = \"orange\"\n",
        "print(my_list)\n",
        "\n",
        "# Changing the tuple will give an error:\n",
        "# my_tuple[0] = \"orange\"   # ❌ Not allowed\n",
        "\n",
        "# Example 2 - Lists can grow, Tuples cannot\n",
        "numbers_list = [1, 2, 3]\n",
        "numbers_tuple = (1, 2, 3)\n",
        "\n",
        "numbers_list.append(4)   # ✅ Works\n",
        "print(numbers_list)\n",
        "\n",
        "# numbers_tuple.append(4)  # ❌ Error: Tuples have no append\n",
        "\n",
        "# Example 3 - Iterating works the same way\n",
        "for item in my_list:\n",
        "    print(\"List item:\", item)\n",
        "\n",
        "for item in my_tuple:\n",
        "    print(\"Tuple item:\", item)\n",
        "\n",
        "# Example 4 - Tuples use () and Lists use []\n",
        "list_example = [10, 20, 30]\n",
        "tuple_example = (10, 20, 30)\n",
        "\n",
        "print(\"This is a list:\", list_example)\n",
        "print(\"This is a tuple:\", tuple_example)\n",
        "\n",
        "# Example 5 - Tuples are often used for fixed data\n",
        "days_in_week = (\"Monday\", \"Tuesday\", \"Wednesday\", \"Thursday\", \"Friday\", \"Saturday\", \"Sunday\")\n",
        "print(days_in_week)"
      ],
      "metadata": {
        "id": "VWywKtQ0yfM-"
      },
      "execution_count": null,
      "outputs": []
    },
    {
      "cell_type": "markdown",
      "source": [
        "#Conditionals [if/elif/else]"
      ],
      "metadata": {
        "id": "sU2wXB8LymHV"
      }
    },
    {
      "cell_type": "code",
      "source": [
        "#Example 1:\n",
        "weather = \"raining\"\n",
        "if weather == \"sunny\":\n",
        "    print(\"Wear sunglasses! 😎\")\n",
        "elif weather == \"raining\":\n",
        "    print(\"Don't forget your umbrella! ☔\")\n",
        "else:\n",
        "    print(\"Have a great day! 🙂\")\n",
        "# This would print: \"Don't forget your umbrella! ☔\""
      ],
      "metadata": {
        "id": "SJkoshQAyn48"
      },
      "execution_count": null,
      "outputs": []
    }
  ]
}