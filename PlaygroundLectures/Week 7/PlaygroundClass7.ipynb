{
  "nbformat": 4,
  "nbformat_minor": 0,
  "metadata": {
    "colab": {
      "provenance": []
    },
    "kernelspec": {
      "name": "python3",
      "display_name": "Python 3"
    },
    "language_info": {
      "name": "python"
    }
  },
  "cells": [
    {
      "cell_type": "markdown",
      "source": [
        "#Week 6 Homework Review"
      ],
      "metadata": {
        "id": "GSvlGLNJw9Or"
      }
    },
    {
      "cell_type": "code",
      "execution_count": null,
      "metadata": {
        "id": "NeQnhTmjpQFG"
      },
      "outputs": [],
      "source": [
        "\"\"\"Question 3: Start from a Number\n",
        "Write a for loop using range(3, 7) that prints the numbers from 3 up to 6.\n",
        "Hint:\n",
        "The second number in range(start, stop) is not included.\"\"\"\n",
        "\n",
        "for i in range(3,7):\n",
        "  print(i)\n",
        "\n",
        "\n",
        "\n",
        "\"\"\"Question 4: Skip Counting\n",
        "Write a for loop using range(0, 20, 4) that prints every 4th number starting at 0, but less than 20.\n",
        "Hint:\n",
        "This will print numbers like: 0, 4, 8, 12, 16.\"\"\"\n",
        "\n",
        "#range(0,20) = (0,1,2,3,4,5,6,7,8,9,10,........,19)\n",
        "#range(0,20,4) = (0,4,8,12,16)\n",
        "for i in range(0,20,4):\n",
        "  print(i)\n",
        "\n",
        "\n",
        "\"\"\"\n",
        "Question 5: Repeat a Word with a Loop\n",
        "Write a for loop that prints \"Yum!\" 5 times.\n",
        "Hint:\n",
        "Use range(5) and print(\"Yum!\") inside the loop.\n",
        "\"\"\"\n",
        "for i in range(5):\n",
        "  print(\"Yum!\")\n",
        "\n",
        "\n",
        "\"\"\"Question 10: Sum It Up!\n",
        "Write a program that:\n",
        "    1. Uses a for loop with range(1, 6)\n",
        "    2. Adds all the numbers together\n",
        "    3. Prints the final sum\"\"\"\n",
        "\n",
        "#range(1,6) = (1,2,3,4,5)\n",
        "#total = 1+2+3+4+5 -> adds all the numbers in range(1,6) = 15\n",
        "total = 0\n",
        "for i in range(1,6):\n",
        "  total = i + total\n",
        "print(total)\n"
      ]
    },
    {
      "cell_type": "markdown",
      "source": [
        "#Functions - Return  Statement"
      ],
      "metadata": {
        "id": "CXOjxKAcw_nv"
      }
    },
    {
      "cell_type": "code",
      "source": [
        "#Example 1 - Without a variable\n",
        "\n",
        "def add_numbers(a, b):\n",
        "    return a + b\n",
        "\n",
        "result = add_numbers(3, 5)\n",
        "\n",
        "print(result)  # Output: 8\n",
        "\n",
        "#Example 2 - With a variable\n",
        "\n",
        "def add_numbers(a, b):\n",
        "    result = a + b\n",
        "    return result\n",
        "\n",
        "total = add_numbers(3, 5)\n",
        "\n",
        "print(total)"
      ],
      "metadata": {
        "id": "mHAlP5oMxCA0"
      },
      "execution_count": null,
      "outputs": []
    },
    {
      "cell_type": "markdown",
      "source": [
        "#For Loops"
      ],
      "metadata": {
        "id": "yXfzpCYrxCto"
      }
    },
    {
      "cell_type": "code",
      "source": [
        "#Recall that For Loops only work with with strings, lists, tuples, or range(). It does not work with integers.\n",
        "\n",
        "#Example 1 - With Strings\n",
        "\n",
        "for i in \"hello\":\n",
        "  print(i)\n",
        "\n",
        "#How do we read this? We read this by saying, for each ITEM in the string \"HELLO\", print the ITEM\n",
        "\n",
        "\n",
        "#Example 2 - With Integer (WILL NOT WORK)\n",
        "for i in 30:\n",
        "  print(i)\n",
        "\n",
        "\n",
        "#Example 3 - With Lists\n",
        "\n",
        "our_list = [1,2,3,4,5,6]\n",
        "\n",
        "for i in our_list:\n",
        "  print(i)"
      ],
      "metadata": {
        "id": "IXxCvcHixG1a"
      },
      "execution_count": null,
      "outputs": []
    },
    {
      "cell_type": "markdown",
      "source": [
        "#range() Function"
      ],
      "metadata": {
        "id": "-fyxhIgTxHnT"
      }
    },
    {
      "cell_type": "code",
      "source": [
        "#Example 1 - Range\n",
        "#How do we say this? For each item in range 2 (which includes only 0 and 1), print the item.\n",
        "#range(1) = (0)\n",
        "#range(1,10) = (1,2,3,4,5,6,7,8,9)\n",
        "#range(2) = (0,1)\n",
        "#range(3) = (0,1,2)\n",
        "#range(4) = (0,1,2,3)\n",
        "#range(5) = (0,1,2,3,4)\n",
        "\n",
        "#range(10) = (0,1,2,3,4,5,6,7,8,9)\n",
        "\n",
        "for i in range(1,10):\n",
        "  print(i)\n",
        "\n",
        "#range(start,stop,step)\n",
        "\n",
        "\n",
        "#range is a list of numbers and it is up to whatever number is in the circle brackets ()\n",
        "#For example, range(5) will produce a list of numbers like this: (0,1,2,3,4)\n"
      ],
      "metadata": {
        "id": "MFaVAnBBxLBs"
      },
      "execution_count": null,
      "outputs": []
    },
    {
      "cell_type": "markdown",
      "source": [
        "#range() Function - With For Loops"
      ],
      "metadata": {
        "id": "qBcrLwqcxSlh"
      }
    },
    {
      "cell_type": "code",
      "source": [
        "\n",
        "#Example 1 - Range\n",
        "#How do we say this? For each item in range 2 (which includes only 0 and 1), print the item.\n",
        "\n",
        "for i in range(2):\n",
        "    print(i)\n",
        "\n",
        "#range(2) = 0,1\n",
        "\n",
        "#Example 2 - range(start,stop,step)\n",
        "#Notice how the number 10 will not be printed!\n",
        "\n",
        "\n",
        "for i in range(0, 10):\n",
        "    print(i)\n",
        "\n",
        "\n",
        "\n",
        "#Example 3 - range(start,stop,step)\n",
        "\n",
        "for i in range(0, 10, 1):\n",
        "    print(i)\n",
        "\n"
      ],
      "metadata": {
        "id": "458hVAY3xUcp"
      },
      "execution_count": null,
      "outputs": []
    },
    {
      "cell_type": "markdown",
      "source": [
        "#New Python Data Type - Lists"
      ],
      "metadata": {
        "id": "PI9Ipu1LAGZb"
      }
    },
    {
      "cell_type": "code",
      "source": [
        "#Example with numbers:\n",
        "sequence = [0,100,200]\n",
        "print(sequence)\n",
        "\n",
        "#Example with strings:\n",
        "fruits = [\"apple\", \"banana\", \"cherry\", \"mango\"]\n",
        "print(fruits)\n",
        "\n",
        "#Example with both numbers and strings:\n",
        "mixed = [\"dog\", 5, \"cat\", 10]\n",
        "print(mixed)\n",
        "\n",
        "# Example 4 - Empty list\n",
        "empty_list = []\n",
        "print(empty_list)\n",
        "\n"
      ],
      "metadata": {
        "id": "vezyHdecYEQG"
      },
      "execution_count": null,
      "outputs": []
    },
    {
      "cell_type": "markdown",
      "source": [
        "**Using Append to Add Items to a List**"
      ],
      "metadata": {
        "id": "DOdRc59BX-qx"
      }
    },
    {
      "cell_type": "code",
      "source": [
        "#Example 1 Using append to add items to a list\n",
        "\n",
        "list = [\"lions\",\"tigers\",\"dolphins\",\"elephants\"]\n",
        "\n",
        "print(list)\n",
        "\n",
        "\n",
        "list.append(\"cats\")\n",
        "\n",
        "print(list)\n",
        "\n",
        "\n",
        "#Example 2 Using append with a list of numbers\n",
        "\n",
        "numbers_list = [10,20,30,40,50]\n",
        "print(numbers_list)\n",
        "\n",
        "numbers_list.append(60)\n",
        "\n",
        "print(numbers_list)\n"
      ],
      "metadata": {
        "id": "CFFZlqgKDBow"
      },
      "execution_count": null,
      "outputs": []
    },
    {
      "cell_type": "markdown",
      "source": [
        "**Using the Index Mechanism**"
      ],
      "metadata": {
        "id": "jKeEm-FRXYH3"
      }
    },
    {
      "cell_type": "code",
      "source": [
        "#Using index to access a particular item in a list - With Numbers\n",
        "\n",
        "list = [10,20,30,40,50] # = [0,1,2,3,4]\n",
        "list[0]\n",
        "list[4]\n",
        "\n",
        "\n",
        "#Using index to access a particular item in a list - With Numbers\n",
        "\n",
        "new_list = [\"Red\",\"Blue\",\"Green\",\"Yellow\"]\n",
        "\n",
        "new_list[0] #This will get us the colour Red from out list. This is because Red is at position 0 in our list.\n",
        "\n",
        "new_list[1] #This will get us the colour Blue from our list. This is because Blue is at position 1 in our list."
      ],
      "metadata": {
        "id": "dEt0xB9PXccv"
      },
      "execution_count": null,
      "outputs": []
    },
    {
      "cell_type": "markdown",
      "source": [
        "#Using Lists in Functions"
      ],
      "metadata": {
        "id": "Og6hJBblAiqe"
      }
    },
    {
      "cell_type": "code",
      "source": [
        "# Example 1 - Function that prints all fruits\n",
        "def show_fruits():\n",
        "    fruits = [\"apple\", \"banana\", \"cherry\"]\n",
        "    for fruit in fruits:\n",
        "        print(fruit)\n",
        "\n",
        "show_fruits()\n",
        "\n",
        "# Example 2 - Function with a list as a parameter\n",
        "def print_colors(colors):\n",
        "    for color in colors:\n",
        "        print(\"I like\", color)\n",
        "\n",
        "print_colors([\"red\", \"blue\", \"green\"])\n",
        "\n",
        "# Example 3 - Adding numbers in a list\n",
        "def sum_numbers(numbers):\n",
        "    total = 0\n",
        "    for n in numbers:\n",
        "        total += n\n",
        "    return total\n",
        "\n",
        "print(sum_numbers([1, 2, 3, 4, 5]))\n",
        "\n",
        "# Example 4 - Multiply each number in a list by 2\n",
        "def double_numbers(numbers):\n",
        "    for n in numbers:\n",
        "        print(n * 2)\n",
        "\n",
        "double_numbers([2, 4, 6, 8])\n",
        "\n",
        "# Example 5 - Function that says hello to everyone in a list\n",
        "def say_hello(names):\n",
        "    for name in names:\n",
        "        print(\"Hello\", name + \"!\")\n",
        "\n",
        "say_hello([\"Alice\", \"Bob\", \"Charlie\"])"
      ],
      "metadata": {
        "id": "GUJh7ycKAUas"
      },
      "execution_count": null,
      "outputs": []
    },
    {
      "cell_type": "markdown",
      "source": [
        "# All the Functions with List - We Only Look at **Append** and **Index**"
      ],
      "metadata": {
        "id": "n_1VrPygAdJY"
      }
    },
    {
      "cell_type": "code",
      "source": [
        "# Example 1 - Append (add item to end of list)\n",
        "fruits = [\"apple\", \"banana\"]\n",
        "fruits.append(\"cherry\")\n",
        "print(fruits)\n",
        "\n",
        "# Example 2 - Insert (add item at specific position)\n",
        "colors = [\"red\", \"blue\", \"green\"]\n",
        "colors.insert(1, \"yellow\")  # insert at index 1\n",
        "print(colors)\n",
        "\n",
        "# Example 3 - Remove (delete a specific item)\n",
        "animals = [\"dog\", \"cat\", \"rabbit\"]\n",
        "animals.remove(\"cat\")\n",
        "print(animals)\n",
        "\n",
        "# Example 4 - Pop (remove item by index, or last item if no index given)\n",
        "numbers = [10, 20, 30, 40]\n",
        "numbers.pop(2)  # removes 30\n",
        "print(numbers)\n",
        "\n",
        "# Example 5 - Sort (arrange items in order)\n",
        "scores = [50, 20, 90, 70]\n",
        "scores.sort()\n",
        "print(scores)\n",
        "\n",
        "# Example 6 - Reverse (reverse the order of items)\n",
        "letters = [\"a\", \"b\", \"c\", \"d\"]\n",
        "letters.reverse()\n",
        "print(letters)\n",
        "\n",
        "\n",
        "#Example 7 - Index (accessing items in a list)\n",
        "numbers = [1,2,3]\n",
        "print(numbers[1])"
      ],
      "metadata": {
        "id": "W5tQjS0xAfsu"
      },
      "execution_count": null,
      "outputs": []
    }
  ]
}