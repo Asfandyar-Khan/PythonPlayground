{
  "nbformat": 4,
  "nbformat_minor": 0,
  "metadata": {
    "colab": {
      "provenance": []
    },
    "kernelspec": {
      "name": "python3",
      "display_name": "Python 3"
    },
    "language_info": {
      "name": "python"
    }
  },
  "cells": [
    {
      "cell_type": "markdown",
      "source": [
        "# Review of Week 1"
      ],
      "metadata": {
        "id": "qw0iRcdYlEyO"
      }
    },
    {
      "cell_type": "markdown",
      "source": [
        "Print Function and Data Types"
      ],
      "metadata": {
        "id": "exNvRhDDmvLJ"
      }
    },
    {
      "cell_type": "code",
      "source": [
        "\"\"\"\n",
        "This is a comment\n",
        "\"\"\"\n",
        "\n",
        "#This is a comment\n",
        "\n",
        "# Print function\n",
        "\n",
        "print(5+5)\n",
        "print(\"My name is Bob\")\n",
        "\n",
        "print(10/5)"
      ],
      "metadata": {
        "colab": {
          "base_uri": "https://localhost:8080/"
        },
        "id": "pJDR81KblNQy",
        "outputId": "aa313de8-10b5-42d7-e086-c4376ff21336"
      },
      "execution_count": null,
      "outputs": [
        {
          "output_type": "stream",
          "name": "stdout",
          "text": [
            "10\n",
            "My name is Bob\n",
            "2.0\n"
          ]
        }
      ]
    },
    {
      "cell_type": "code",
      "source": [
        "print(10*2)\n",
        "\n",
        "print(2**2)"
      ],
      "metadata": {
        "colab": {
          "base_uri": "https://localhost:8080/"
        },
        "id": "eZj-1LE7n_bS",
        "outputId": "65c680b6-7c39-4300-a7fb-663bab646b21"
      },
      "execution_count": null,
      "outputs": [
        {
          "output_type": "stream",
          "name": "stdout",
          "text": [
            "20\n",
            "4\n"
          ]
        }
      ]
    },
    {
      "cell_type": "code",
      "source": [],
      "metadata": {
        "id": "34SmpTU8raJp"
      },
      "execution_count": null,
      "outputs": []
    },
    {
      "cell_type": "markdown",
      "source": [
        "# Integers, Floats, & Strings"
      ],
      "metadata": {
        "id": "FvOB49Rvrcge"
      }
    },
    {
      "cell_type": "code",
      "source": [
        "print('5+5')\n",
        "print(5+5)\n",
        "\n",
        "#Integers/Float are stored as numerical values\n",
        "#Strings are stored as text\n",
        "\n",
        "type('5')\n",
        "\n",
        "#Integer functions convert whatever is in them to an integer\n",
        "\n",
        "int('5')\n",
        "#int('Hello') # -> This will cause a Value Error in your code!\n",
        "\n",
        "float('5')\n",
        "\n",
        "int(5.5231)\n",
        "\n",
        "print('10+10')\n",
        "\n",
        "int('10')\n",
        "str(10)\n"
      ],
      "metadata": {
        "colab": {
          "base_uri": "https://localhost:8080/",
          "height": 87
        },
        "id": "Mar2-olWrh-C",
        "outputId": "d1169e1b-640e-42ef-c2eb-24ec9c3e5c5d"
      },
      "execution_count": 4,
      "outputs": [
        {
          "output_type": "stream",
          "name": "stdout",
          "text": [
            "5+5\n",
            "10\n",
            "10+10\n"
          ]
        },
        {
          "output_type": "execute_result",
          "data": {
            "text/plain": [
              "'10'"
            ],
            "application/vnd.google.colaboratory.intrinsic+json": {
              "type": "string"
            }
          },
          "metadata": {},
          "execution_count": 4
        }
      ]
    },
    {
      "cell_type": "code",
      "source": [
        "#Using a string in numerical division\n",
        "\n",
        "5+5\n",
        "\n",
        "'Bob'+5"
      ],
      "metadata": {
        "colab": {
          "base_uri": "https://localhost:8080/",
          "height": 193
        },
        "id": "s4SLgrGhv4fx",
        "outputId": "d20b164c-44a9-4d6d-8af2-70393d1aa947"
      },
      "execution_count": 7,
      "outputs": [
        {
          "output_type": "error",
          "ename": "TypeError",
          "evalue": "can only concatenate str (not \"int\") to str",
          "traceback": [
            "\u001b[0;31m---------------------------------------------------------------------------\u001b[0m",
            "\u001b[0;31mTypeError\u001b[0m                                 Traceback (most recent call last)",
            "\u001b[0;32m/tmp/ipython-input-7-2236727698.py\u001b[0m in \u001b[0;36m<cell line: 0>\u001b[0;34m()\u001b[0m\n\u001b[1;32m      2\u001b[0m \u001b[0;34m\u001b[0m\u001b[0m\n\u001b[1;32m      3\u001b[0m \u001b[0;34m\u001b[0m\u001b[0m\n\u001b[0;32m----> 4\u001b[0;31m \u001b[0;34m'Bob'\u001b[0m\u001b[0;34m+\u001b[0m\u001b[0;36m5\u001b[0m\u001b[0;34m\u001b[0m\u001b[0;34m\u001b[0m\u001b[0m\n\u001b[0m\u001b[1;32m      5\u001b[0m \u001b[0;34m\u001b[0m\u001b[0m\n",
            "\u001b[0;31mTypeError\u001b[0m: can only concatenate str (not \"int\") to str"
          ]
        }
      ]
    },
    {
      "cell_type": "markdown",
      "source": [
        "#**Variables in Python**"
      ],
      "metadata": {
        "id": "R414YdZkx6x4"
      }
    },
    {
      "cell_type": "code",
      "source": [
        "#Numerical example of a variable's value\n",
        "\n",
        "# Variable = Value\n",
        "\n",
        "\n",
        "\n",
        "letter1 = \"Hello\"\n",
        "\n",
        "letter2 = \"World\"\n",
        "\n",
        "letter3 = \"My\"\n",
        "\n",
        "letter4 = \"Name is\"\n",
        "\n",
        "letter5 = \"bob\"\n",
        "\n",
        "print(letter1+letter2+letter3+letter4+letter5)\n",
        "\n",
        "\n"
      ],
      "metadata": {
        "id": "-GHoYX3Xx-_3"
      },
      "execution_count": 15,
      "outputs": []
    },
    {
      "cell_type": "code",
      "source": [
        "\n",
        "print(\"hello my name is Bob and my favourite food is pizza\")"
      ],
      "metadata": {
        "id": "Mq8mccSGzHZv",
        "colab": {
          "base_uri": "https://localhost:8080/"
        },
        "outputId": "da94a920-51d5-46fd-b65f-04ed2d6ac6a6"
      },
      "execution_count": 16,
      "outputs": [
        {
          "output_type": "stream",
          "name": "stdout",
          "text": [
            "hello my name is Bob and my favourite food is pizza\n"
          ]
        }
      ]
    },
    {
      "cell_type": "code",
      "source": [
        "\"\"\"\n",
        "Choose any two numbers.\n",
        "Add them, subtract them, multiply them, and divide them.\n",
        "\n",
        "Print a message like:\n",
        "If I have 8 apples and I give away 3, I have 5 apples left!\n",
        "\"\"\"\n",
        "\n",
        "\n",
        "fruit_1 = 10\n",
        "fruit_2 = 5\n",
        "result = fruit_1 - fruit_2\n",
        "\n",
        "\n",
        "name = \"Alex\"\n",
        "age = \"10\"\n",
        "\n",
        "\n",
        "#Method 2:\n",
        "print(\"My name is {} and my age is {}\".format(name,age))\n",
        "\n",
        "apples = 10\n",
        "bananas = 20\n",
        "total_fruit = apples+bananas\n",
        "\n",
        "# There are 10 apples and 20 bananas and 30 fruit all together\n",
        "\n",
        "print(\"There are {} apples and {} bananas and {} fruit all together\".format(apples,bananas,total_fruit))\n",
        "\n",
        "\n"
      ],
      "metadata": {
        "colab": {
          "base_uri": "https://localhost:8080/"
        },
        "id": "wdtalvg-xTUj",
        "outputId": "e02620b6-9a52-4715-8f7b-c2e9a9acabcf"
      },
      "execution_count": 30,
      "outputs": [
        {
          "output_type": "stream",
          "name": "stdout",
          "text": [
            "My name is Alex and my age is 10\n",
            "There are 10 apples and 20 bananas and 30 fruit all together\n"
          ]
        }
      ]
    },
    {
      "cell_type": "code",
      "source": [
        "input_name = input(\"Enter your name: \")\n",
        "input_age = input(\"Enter your age: \")\n",
        "\n",
        "print(\"The user's name is {} and their age is {}\".format(input_name,input_age))\n"
      ],
      "metadata": {
        "colab": {
          "base_uri": "https://localhost:8080/"
        },
        "id": "mEoo16S_31tb",
        "outputId": "bd50b381-e518-4879-90b5-fcdbe62c1bc2"
      },
      "execution_count": 32,
      "outputs": [
        {
          "output_type": "stream",
          "name": "stdout",
          "text": [
            "Enter your name: Bob\n",
            "Enter your age: 10\n",
            "The user's name is Bob and their age is 10\n"
          ]
        }
      ]
    }
  ]
}