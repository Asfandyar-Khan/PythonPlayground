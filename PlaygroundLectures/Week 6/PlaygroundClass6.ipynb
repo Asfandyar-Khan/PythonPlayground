{
  "nbformat": 4,
  "nbformat_minor": 0,
  "metadata": {
    "colab": {
      "provenance": []
    },
    "kernelspec": {
      "name": "python3",
      "display_name": "Python 3"
    },
    "language_info": {
      "name": "python"
    }
  },
  "cells": [
    {
      "cell_type": "markdown",
      "source": [
        "# Class Activity"
      ],
      "metadata": {
        "id": "eHSoUmdbw0it"
      }
    },
    {
      "cell_type": "code",
      "source": [
        "\"\"\"Write a function called print_sentence(word, number) that multiplies the word by the number and prints it in a sentence like this:\n",
        "\n",
        "WowWowWow! That was exciting!\n",
        "\n",
        "Call the function like this:\n",
        "\n",
        "print_sentence(\"Wow\", 3)\"\"\"\n",
        "\n",
        "def print_sentence(word,number):\n",
        "  result = word * number\n",
        "  print(\"{}! That was exciting!\".format(result))\n",
        "\n",
        "print_sentence(\"Wow\",3)\n"
      ],
      "metadata": {
        "id": "mtTCLSdGvZSI"
      },
      "execution_count": null,
      "outputs": []
    },
    {
      "cell_type": "markdown",
      "source": [
        "#Introduction to For Loops in Python"
      ],
      "metadata": {
        "id": "JvUtM-PPcGxe"
      }
    },
    {
      "cell_type": "markdown",
      "source": [
        "**For Loops - With Strings**"
      ],
      "metadata": {
        "id": "w8rzv9ZncJmR"
      }
    },
    {
      "cell_type": "code",
      "execution_count": null,
      "metadata": {
        "id": "O82u51FGrI7_"
      },
      "outputs": [],
      "source": [
        "#Recall that For Loops only work with with strings, lists, tuples, or range()\n",
        "#Example 1 - With Strings\n",
        "\n",
        "for i in \"hello\":\n",
        "  print(i)\n",
        "\n",
        "#How do we read this? We read this by saying, for each ITEM in the string \"HELLO\", print the ITEM\n",
        "\n",
        "\n",
        "#Example 2 - With Integer (WILL NOT WORK)\n",
        "for i in 30:\n",
        "  print(i)\n",
        "\n",
        "\n",
        "#Example 3 - With Lists (WE WILL COME BACK TO THIS LATER)"
      ]
    },
    {
      "cell_type": "markdown",
      "source": [
        "**For Loops - With the range() Function**"
      ],
      "metadata": {
        "id": "vZlhEqnGcNKH"
      }
    },
    {
      "cell_type": "code",
      "source": [
        "#Example 1 - Range\n",
        "#How do we say this? For each item in range 2 (which includes only 0 and 1), print the item.\n",
        "\n",
        "for i in range(2):\n",
        "    print(i)\n",
        "\n",
        "#range(2) = 0,1\n",
        "\n",
        "#Example 2 - range(start,stop,step)\n",
        "#Notice how the number 10 will not be printed!\n",
        "\n",
        "\n",
        "for i in range(0, 10):\n",
        "    print(i)\n",
        "\n",
        "\n",
        "\n",
        "#Example 3 - range(start,stop,step)\n",
        "\n",
        "for i in range(0, 10, 1):\n",
        "    print(i)\n"
      ],
      "metadata": {
        "id": "zVa6O27v5-zQ"
      },
      "execution_count": null,
      "outputs": []
    },
    {
      "cell_type": "markdown",
      "source": [
        "**range() Function - Continued**"
      ],
      "metadata": {
        "id": "1A-zfezGcYz_"
      }
    },
    {
      "cell_type": "code",
      "source": [
        "#Example 1 - Range\n",
        "#How do we say this? For each item in range 2 (which includes only 0 and 1), print the item.\n",
        "#range(1) = (0)\n",
        "#range(1,10) = (1,2,3,4,5,6,7,8,9)\n",
        "#range(2) = (0,1)\n",
        "#range(3) = (0,1,2)\n",
        "#range(4) = (0,1,2,3)\n",
        "#range(5) = (0,1,2,3,4)\n",
        "\n",
        "#range(10) = (0,1,2,3,4,5,6,7,8,9)\n",
        "\n",
        "for i in range(1,10):\n",
        "  print(i)\n",
        "\n",
        "range(start,stop,step)\n",
        "\n",
        "\n",
        "#range is a list of numbers and it is up to whatever number is in the circle brackets ()\n",
        "#For example, range(5) will produce a list of numbers like this: (0,1,2,3,4)\n",
        "\n"
      ],
      "metadata": {
        "id": "Q1IhpDBq5-wu"
      },
      "execution_count": null,
      "outputs": []
    }
  ]
}